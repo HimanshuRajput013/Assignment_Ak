{
 "cells": [
  {
   "cell_type": "code",
   "execution_count": null,
   "metadata": {},
   "outputs": [
    {
     "name": "stderr",
     "output_type": "stream",
     "text": [
      "i:\\project\\Assigment A\\newsa\\lib\\site-packages\\tqdm\\auto.py:21: TqdmWarning: IProgress not found. Please update jupyter and ipywidgets. See https://ipywidgets.readthedocs.io/en/stable/user_install.html\n",
      "  from .autonotebook import tqdm as notebook_tqdm\n"
     ]
    }
   ],
   "source": [
    "import requests\n",
    "from bs4 import BeautifulSoup\n",
    "import logging\n",
    "from transformers import pipeline\n",
    "import re\n",
    "import logging\n",
    "from keybert import KeyBERT\n",
    "from typing import Dict,List,Set\n",
    "import os\n"
   ]
  },
  {
   "cell_type": "code",
   "execution_count": 2,
   "metadata": {},
   "outputs": [],
   "source": [
    "log_file = \"app.log\"\n",
    "\n",
    "# Ensure log file exists\n",
    "if not os.path.exists(log_file):\n",
    "    open(log_file, \"w\").close()\n",
    "\n",
    "# Remove previous handlers to allow reconfiguration\n",
    "for handler in logging.root.handlers[:]:\n",
    "    logging.root.removeHandler(handler)\n",
    "\n",
    "# Configure logging\n",
    "logging.basicConfig(\n",
    "    level=logging.INFO,\n",
    "    format=\"%(asctime)s - %(levelname)s - %(message)s\",\n",
    "    filename=log_file,\n",
    "    filemode=\"a\",\n",
    "    force=True\n",
    ")"
   ]
  },
  {
   "cell_type": "code",
   "execution_count": 6,
   "metadata": {},
   "outputs": [
    {
     "name": "stderr",
     "output_type": "stream",
     "text": [
      "Device set to use cpu\n",
      "Device set to use cpu\n"
     ]
    }
   ],
   "source": [
    "# Load Summary model \n",
    "summary_pipeline = pipeline(\"summarization\", model=\"sshleifer/distilbart-cnn-12-6\")\n",
    "# Load Sentiment model \n",
    "sentiment_pipeline = pipeline(\n",
    "                                \"sentiment-analysis\",\n",
    "                                model=\"distilbert/distilbert-base-uncased-finetuned-sst-2-english\",\n",
    "                                )\n",
    "#Load keyBERT for Topic Modelling for every articale\n",
    "kw_model = KeyBERT()"
   ]
  },
  {
   "cell_type": "code",
   "execution_count": 18,
   "metadata": {},
   "outputs": [],
   "source": [
    "\n",
    "\n",
    "def extract_articles(company: str) -> List[Dict[str, str]]:\n",
    "    \"\"\"Extracts the latest news articles for a given company.\"\"\"\n",
    "    logging.info(f\"Starting article extraction for company: {company}\")\n",
    "    headers = {\n",
    "        'User-Agent': ('Mozilla/5.0 (Windows NT 10.0; Win64; x64) AppleWebKit/537.36 '\n",
    "                       '(KHTML, like Gecko) Chrome/91.0.4472.124 Safari/537.36')\n",
    "    }\n",
    "    url = f\"https://timesofindia.indiatimes.com/topic/{company}\"\n",
    "    \n",
    "    try:\n",
    "        response = requests.get(url, headers=headers)\n",
    "        response.raise_for_status()\n",
    "    except requests.RequestException as e:\n",
    "        logging.error(f\"Failed to fetch the main page: {e}\")\n",
    "        return []\n",
    "    \n",
    "    soup = BeautifulSoup(response.content, \"html.parser\")\n",
    "    articles = []\n",
    "    article_divs = soup.select('div.uwU81')[:2]\n",
    "    \n",
    "    for div in article_divs:\n",
    "        a_tag = div.find('a')\n",
    "        if not a_tag or 'href' not in a_tag.attrs:\n",
    "            continue\n",
    "        \n",
    "        article_url = a_tag['href']\n",
    "        \n",
    "        try:\n",
    "            request_internal = requests.get(article_url, headers=headers)\n",
    "            request_internal.raise_for_status()\n",
    "        except requests.RequestException as e:\n",
    "            logging.warning(f\"Skipping article due to request error: {e}\")\n",
    "            continue\n",
    "        \n",
    "        soup_internal = BeautifulSoup(request_internal.content, \"html.parser\")\n",
    "        title_tag = soup_internal.find('h1')\n",
    "        title = title_tag.get_text(strip=True) if title_tag else \"No Title Found\"\n",
    "        \n",
    "        content_div = soup_internal.find('div', class_=re.compile(r'_s30J\\s*clearfix'))\n",
    "        content = ''\n",
    "        if content_div:\n",
    "            paragraphs = content_div.find_all('p')\n",
    "            content = '\\n'.join([p.text.strip() for p in paragraphs]) if paragraphs else content_div.text.strip()\n",
    "        \n",
    "        if not content:\n",
    "            logging.info(f\"Skipping article '{title}' due to missing content.\")\n",
    "            continue\n",
    "        \n",
    "        summary_text = summary_pipeline(content, max_length=80, min_length=20, do_sample=False)\n",
    "        summary = summary_text[0]['summary_text']\n",
    "        \n",
    "        label = sentiment_pipeline(summary)[0] if summary else {'label': \"NEUTRAL\", 'score': 0.5}\n",
    "        \n",
    "        topics = kw_model.extract_keywords(summary, keyphrase_ngram_range=(1, 2), stop_words='english')\n",
    "        topic_list = [topic[0] for topic in topics]\n",
    "        \n",
    "        articles.append({\n",
    "            \"Title\": title,\n",
    "            \"Summary\": summary,\n",
    "            \"Sentiment\": label,\n",
    "            \"URL\": article_url,\n",
    "            \"Topics\": topic_list\n",
    "        })\n",
    "    \n",
    "    return articles"
   ]
  },
  {
   "cell_type": "code",
   "execution_count": 19,
   "metadata": {},
   "outputs": [
    {
     "name": "stdout",
     "output_type": "stream",
     "text": [
      "[{'Title': 'Tesla hit by record trade-ins as Elon Musk’s DOGE ties sparks outrage', 'Summary': \" A significant increase in Tesla vehicle trade-ins due to protests against CEO Elon Musk's political involvement . Demonstrations and vandalism have erupted, causing a decline in Tesla's sales . Tesla cars from 2017 and newer made up 1.4% of all vehicles traded in until March 15 . Analysts at Edmunds believe this number could rise further in the coming weeks .\", 'Sentiment': {'label': 'NEGATIVE', 'score': 0.9929310083389282}, 'URL': 'https://timesofindia.indiatimes.com/technology/tech-news/tesla-hit-by-record-trade-ins-as-elon-musks-doge-ties-sparks-outrage/articleshow/119311941.cms', 'Topics': ['tesla sales', 'sales tesla', 'tesla cars', 'increase tesla', 'tesla vehicle']}, {'Title': \"Jasmine Crockett wants 'Elon Musk to be taken down' as her birthday present amid violence against Tesla\", 'Summary': ' Congresswoman Jasmine Crockett (D-TX) said she wants Elon Musk to be taken down as her birthday protest . She urged for violence against Elon Musk in a live stream set up by #TeslaTakedown . The group is planning its biggest day of action on Match 29 with planned protests at 277 Tesla locations in US and 500 abroad .', 'Sentiment': {'label': 'NEGATIVE', 'score': 0.9969004392623901}, 'URL': 'https://timesofindia.indiatimes.com/world/us/jasmine-crockett-wants-elon-musk-to-be-taken-down-as-her-birthday-present-amid-violence-against-tesla/articleshow/119272376.cms', 'Topics': ['elon musk', 'birthday protest', 'protest', 'planned protests', 'musk taken']}]\n"
     ]
    }
   ],
   "source": [
    "articles=extract_articles('tesla')\n",
    "print(articles)"
   ]
  },
  {
   "cell_type": "code",
   "execution_count": 20,
   "metadata": {},
   "outputs": [],
   "source": [
    "def comparative_analysis(articles: List[Dict[str, any]], company_name: str) -> Dict[str, any]:\n",
    "    logging.info(f\" comparative analysis of news articles related to: {company_name}\")\n",
    "    all_topic_sets: List[Set[str]] = [set(article[\"Topics\"]) for article in articles]\n",
    "    common_topics: Set[str] = set.intersection(*all_topic_sets) if all_topic_sets else set()\n",
    "\n",
    "    comparisons = []\n",
    "    for i in range(len(articles) - 1):\n",
    "        for j in range(i + 1, len(articles)):\n",
    "            art1, art2 = articles[i], articles[j]\n",
    "            comparisons.append({\n",
    "                \"Comparison\": f\"{art1['Title']} vs {art2['Title']}\",\n",
    "                \"Impact\": (\n",
    "                    f\"{art1['Title']} discusses {art1['Sentiment']['label']} news, whereas \"\n",
    "                    f\"{art2['Title']} focuses on {art2['Sentiment']['label']} coverage.\"\n",
    "                )\n",
    "            })\n",
    "    \n",
    "    topic_overlap = {\n",
    "        \"Common Topics\": list(common_topics),\n",
    "        \"Unique Topics per Article\": {\n",
    "            art[\"Title\"]: list(set(art[\"Topics\"]) - common_topics) for art in articles\n",
    "        }\n",
    "    }\n",
    "    \n",
    "    sentiment_counts = {\"POSITIVE\": 0, \"NEGATIVE\": 0, \"NEUTRAL\": 0}\n",
    "    for art in articles:\n",
    "        sentiment_counts[art['Sentiment']['label']] += 1\n",
    "    \n",
    "    return {\n",
    "        \"Company\": company_name,\n",
    "        \"Articles\": articles,\n",
    "        \"Comparative Sentiment Score\": {\n",
    "            \"Sentiment Distribution\": sentiment_counts,\n",
    "            \"Coverage Differences\": comparisons,\n",
    "            \"Topic Overlap\": topic_overlap\n",
    "        },\n",
    "        \"Final Sentiment Analysis\": (\n",
    "            f\"{company_name}'s latest news coverage is mostly \"\n",
    "            f\"{max(sentiment_counts, key=sentiment_counts.get)}.\"\n",
    "        )\n",
    "    }"
   ]
  },
  {
   "cell_type": "code",
   "execution_count": 21,
   "metadata": {},
   "outputs": [
    {
     "data": {
      "text/plain": [
       "{'Company': 'Tesla',\n",
       " 'Articles': [{'Title': 'Tesla hit by record trade-ins as Elon Musk’s DOGE ties sparks outrage',\n",
       "   'Summary': \" A significant increase in Tesla vehicle trade-ins due to protests against CEO Elon Musk's political involvement . Demonstrations and vandalism have erupted, causing a decline in Tesla's sales . Tesla cars from 2017 and newer made up 1.4% of all vehicles traded in until March 15 . Analysts at Edmunds believe this number could rise further in the coming weeks .\",\n",
       "   'Sentiment': {'label': 'NEGATIVE', 'score': 0.9929310083389282},\n",
       "   'URL': 'https://timesofindia.indiatimes.com/technology/tech-news/tesla-hit-by-record-trade-ins-as-elon-musks-doge-ties-sparks-outrage/articleshow/119311941.cms',\n",
       "   'Topics': ['tesla sales',\n",
       "    'sales tesla',\n",
       "    'tesla cars',\n",
       "    'increase tesla',\n",
       "    'tesla vehicle']},\n",
       "  {'Title': \"Jasmine Crockett wants 'Elon Musk to be taken down' as her birthday present amid violence against Tesla\",\n",
       "   'Summary': ' Congresswoman Jasmine Crockett (D-TX) said she wants Elon Musk to be taken down as her birthday protest . She urged for violence against Elon Musk in a live stream set up by #TeslaTakedown . The group is planning its biggest day of action on Match 29 with planned protests at 277 Tesla locations in US and 500 abroad .',\n",
       "   'Sentiment': {'label': 'NEGATIVE', 'score': 0.9969004392623901},\n",
       "   'URL': 'https://timesofindia.indiatimes.com/world/us/jasmine-crockett-wants-elon-musk-to-be-taken-down-as-her-birthday-present-amid-violence-against-tesla/articleshow/119272376.cms',\n",
       "   'Topics': ['elon musk',\n",
       "    'birthday protest',\n",
       "    'protest',\n",
       "    'planned protests',\n",
       "    'musk taken']}],\n",
       " 'Comparative Sentiment Score': {'Sentiment Distribution': {'POSITIVE': 0,\n",
       "   'NEGATIVE': 2,\n",
       "   'NEUTRAL': 0},\n",
       "  'Coverage Differences': [{'Comparison': \"Tesla hit by record trade-ins as Elon Musk’s DOGE ties sparks outrage vs Jasmine Crockett wants 'Elon Musk to be taken down' as her birthday present amid violence against Tesla\",\n",
       "    'Impact': \"Tesla hit by record trade-ins as Elon Musk’s DOGE ties sparks outrage discusses NEGATIVE news, whereas Jasmine Crockett wants 'Elon Musk to be taken down' as her birthday present amid violence against Tesla focuses on NEGATIVE coverage.\"}],\n",
       "  'Topic Overlap': {'Common Topics': [],\n",
       "   'Unique Topics per Article': {'Tesla hit by record trade-ins as Elon Musk’s DOGE ties sparks outrage': ['tesla cars',\n",
       "     'tesla sales',\n",
       "     'increase tesla',\n",
       "     'tesla vehicle',\n",
       "     'sales tesla'],\n",
       "    \"Jasmine Crockett wants 'Elon Musk to be taken down' as her birthday present amid violence against Tesla\": ['musk taken',\n",
       "     'protest',\n",
       "     'elon musk',\n",
       "     'birthday protest',\n",
       "     'planned protests']}}},\n",
       " 'Final Sentiment Analysis': \"Tesla's latest news coverage is mostly NEGATIVE.\"}"
      ]
     },
     "execution_count": 21,
     "metadata": {},
     "output_type": "execute_result"
    }
   ],
   "source": [
    "result = comparative_analysis(articles,'Tesla')\n",
    "result\n"
   ]
  }
 ],
 "metadata": {
  "kernelspec": {
   "display_name": "Python 3",
   "language": "python",
   "name": "python3"
  },
  "language_info": {
   "codemirror_mode": {
    "name": "ipython",
    "version": 3
   },
   "file_extension": ".py",
   "mimetype": "text/x-python",
   "name": "python",
   "nbconvert_exporter": "python",
   "pygments_lexer": "ipython3",
   "version": "3.10.0"
  }
 },
 "nbformat": 4,
 "nbformat_minor": 2
}
